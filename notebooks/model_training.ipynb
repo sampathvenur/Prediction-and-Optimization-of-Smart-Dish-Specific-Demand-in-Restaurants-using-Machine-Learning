{
 "cells": [
  {
   "cell_type": "code",
   "execution_count": null,
   "metadata": {},
   "outputs": [],
   "source": [
    "# Load preprocessed datasets\n",
    "\n",
    "\n",
    "\n",
    "import pandas as pd\n",
    "\n",
    "data_path = \"../data/\"\n",
    "X_train = pd.read_csv(data_path + \"X_train.csv\")\n",
    "X_val = pd.read_csv(data_path + \"X_val.csv\")\n",
    "y_train = pd.read_csv(data_path + \"y_train.csv\").squeeze()  # Convert to Series\n",
    "y_val = pd.read_csv(data_path + \"y_val.csv\").squeeze()  # Convert to Series\n",
    "X_test = pd.read_csv(data_path + \"X_test.csv\")\n",
    "test_merged.to_csv(\"../data/test_merged.csv\", index=False)\n",
    "\n"
   ]
  },
  {
   "cell_type": "code",
   "execution_count": null,
   "metadata": {},
   "outputs": [],
   "source": [
    "# Recreate test_merged\n",
    "test_merged = datasets['test'].merge(\n",
    "    datasets['meal_info'], on='meal_id', how='left'\n",
    ").merge(\n",
    "    datasets['fulfilment_center_info'], on='center_id', how='left'\n",
    ")\n",
    "\n",
    "# Add derived features\n",
    "test_merged['price_diff'] = test_merged['base_price'] - test_merged['checkout_price']\n",
    "test_merged['promotion'] = test_merged['emailer_for_promotion'] + test_merged['homepage_featured']\n",
    "\n",
    "# Encode categorical variables\n",
    "from sklearn.preprocessing import LabelEncoder\n",
    "for col in ['category', 'cuisine', 'center_type']:\n",
    "    le = LabelEncoder()\n",
    "    test_merged[col] = le.fit_transform(test_merged[col])"
   ]
  },
  {
   "cell_type": "code",
   "execution_count": null,
   "metadata": {},
   "outputs": [],
   "source": []
  },
  {
   "cell_type": "code",
   "execution_count": null,
   "metadata": {},
   "outputs": [],
   "source": [
    "# Define feature columns for test data\n",
    "feature_cols = [\n",
    "    \"checkout_price\", \"base_price\", \"price_diff\", \"promotion\", \n",
    "    \"category\", \"cuisine\", \"city_code\", \"region_code\", \"center_type\", \"op_area\"\n",
    "]\n",
    "\n",
    "# Prepare X_test\n",
    "X_test = test_merged[feature_cols]\n",
    "\n",
    "# Preview X_test\n",
    "print(\"X_test - Overview:\")\n",
    "print(X_test.head())\n"
   ]
  },
  {
   "cell_type": "code",
   "execution_count": 10,
   "metadata": {},
   "outputs": [
    {
     "name": "stdout",
     "output_type": "stream",
     "text": [
      "Model Evaluation on Validation Set:\n",
      "Mean Absolute Error (MAE): 194.35814611444079\n",
      "Root Mean Squared Error (RMSE): 339.2426479106249\n",
      "R-squared (R2): 0.24550610267294026\n"
     ]
    },
    {
     "ename": "NameError",
     "evalue": "name 'test_merged' is not defined",
     "output_type": "error",
     "traceback": [
      "\u001b[1;31m---------------------------------------------------------------------------\u001b[0m",
      "\u001b[1;31mNameError\u001b[0m                                 Traceback (most recent call last)",
      "Cell \u001b[1;32mIn[10], line 28\u001b[0m\n\u001b[0;32m     25\u001b[0m y_test_pred \u001b[38;5;241m=\u001b[39m model\u001b[38;5;241m.\u001b[39mpredict(X_test)\n\u001b[0;32m     27\u001b[0m \u001b[38;5;66;03m# Save test predictions\u001b[39;00m\n\u001b[1;32m---> 28\u001b[0m test_predictions \u001b[38;5;241m=\u001b[39m \u001b[43mtest_merged\u001b[49m[[\u001b[38;5;124m\"\u001b[39m\u001b[38;5;124mid\u001b[39m\u001b[38;5;124m\"\u001b[39m]]\u001b[38;5;241m.\u001b[39mcopy()\n\u001b[0;32m     29\u001b[0m test_predictions[\u001b[38;5;124m\"\u001b[39m\u001b[38;5;124mnum_orders\u001b[39m\u001b[38;5;124m\"\u001b[39m] \u001b[38;5;241m=\u001b[39m y_test_pred\n\u001b[0;32m     30\u001b[0m test_predictions\u001b[38;5;241m.\u001b[39mto_csv(\u001b[38;5;124m\"\u001b[39m\u001b[38;5;124m../results/test_predictions.csv\u001b[39m\u001b[38;5;124m\"\u001b[39m, index\u001b[38;5;241m=\u001b[39m\u001b[38;5;28;01mFalse\u001b[39;00m)\n",
      "\u001b[1;31mNameError\u001b[0m: name 'test_merged' is not defined"
     ]
    }
   ],
   "source": [
    "from sklearn.linear_model import LinearRegression\n",
    "from sklearn.metrics import mean_absolute_error, mean_squared_error, r2_score\n",
    "import numpy as np\n",
    "\n",
    "# Initialize the model\n",
    "model = LinearRegression()\n",
    "\n",
    "# Train the model\n",
    "model.fit(X_train, y_train)\n",
    "\n",
    "# Predict on validation set\n",
    "y_val_pred = model.predict(X_val)\n",
    "\n",
    "# Evaluate the model\n",
    "mae = mean_absolute_error(y_val, y_val_pred)\n",
    "rmse = np.sqrt(mean_squared_error(y_val, y_val_pred))\n",
    "r2 = r2_score(y_val, y_val_pred)\n",
    "\n",
    "print(f\"Model Evaluation on Validation Set:\")\n",
    "print(f\"Mean Absolute Error (MAE): {mae}\")\n",
    "print(f\"Root Mean Squared Error (RMSE): {rmse}\")\n",
    "print(f\"R-squared (R2): {r2}\")\n",
    "\n",
    "# Predict on test set\n",
    "y_test_pred = model.predict(X_test)\n",
    "\n",
    "# Save test predictions\n",
    "test_predictions = test_merged[[\"id\"]].copy()\n",
    "test_predictions[\"num_orders\"] = y_test_pred\n",
    "test_predictions.to_csv(\"../results/test_predictions.csv\", index=False)\n",
    "\n",
    "print(\"\\nTest predictions saved to ../results/test_predictions.csv\")\n"
   ]
  }
 ],
 "metadata": {
  "kernelspec": {
   "display_name": "Python 3",
   "language": "python",
   "name": "python3"
  },
  "language_info": {
   "codemirror_mode": {
    "name": "ipython",
    "version": 3
   },
   "file_extension": ".py",
   "mimetype": "text/x-python",
   "name": "python",
   "nbconvert_exporter": "python",
   "pygments_lexer": "ipython3",
   "version": "3.13.0"
  }
 },
 "nbformat": 4,
 "nbformat_minor": 2
}
