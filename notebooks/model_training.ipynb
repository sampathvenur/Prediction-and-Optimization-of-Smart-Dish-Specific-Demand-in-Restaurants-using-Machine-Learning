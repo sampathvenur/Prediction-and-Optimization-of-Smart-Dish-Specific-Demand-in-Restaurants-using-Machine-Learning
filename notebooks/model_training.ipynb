{
 "cells": [
  {
   "cell_type": "code",
   "execution_count": null,
   "metadata": {},
   "outputs": [],
   "source": [
    "# Load preprocessed datasets\n",
    "\n",
    "\n",
    "\n",
    "import pandas as pd\n",
    "\n",
    "data_path = \"../data/\"\n",
    "X_train = pd.read_csv(data_path + \"X_train.csv\")\n",
    "X_val = pd.read_csv(data_path + \"X_val.csv\")\n",
    "y_train = pd.read_csv(data_path + \"y_train.csv\").squeeze()  # Convert to Series\n",
    "y_val = pd.read_csv(data_path + \"y_val.csv\").squeeze()  # Convert to Series\n",
    "X_test = pd.read_csv(data_path + \"X_test.csv\")\n",
    "test_merged.to_csv(\"../data/test_merged.csv\", index=False)\n",
    "\n"
   ]
  },
  {
   "cell_type": "code",
   "execution_count": null,
   "metadata": {},
   "outputs": [],
   "source": [
    "# Recreate test_merged\n",
    "test_merged = datasets['test'].merge(\n",
    "    datasets['meal_info'], on='meal_id', how='left'\n",
    ").merge(\n",
    "    datasets['fulfilment_center_info'], on='center_id', how='left'\n",
    ")\n",
    "\n",
    "# Add derived features\n",
    "test_merged['price_diff'] = test_merged['base_price'] - test_merged['checkout_price']\n",
    "test_merged['promotion'] = test_merged['emailer_for_promotion'] + test_merged['homepage_featured']\n",
    "\n",
    "# Encode categorical variables\n",
    "from sklearn.preprocessing import LabelEncoder\n",
    "for col in ['category', 'cuisine', 'center_type']:\n",
    "    le = LabelEncoder()\n",
    "    test_merged[col] = le.fit_transform(test_merged[col])"
   ]
  },
  {
   "cell_type": "code",
   "execution_count": null,
   "metadata": {},
   "outputs": [],
   "source": []
  },
  {
   "cell_type": "code",
   "execution_count": null,
   "metadata": {},
   "outputs": [],
   "source": [
    "# Define feature columns for test data\n",
    "feature_cols = [\n",
    "    \"checkout_price\", \"base_price\", \"price_diff\", \"promotion\", \n",
    "    \"category\", \"cuisine\", \"city_code\", \"region_code\", \"center_type\", \"op_area\"\n",
    "]\n",
    "\n",
    "# Prepare X_test\n",
    "X_test = test_merged[feature_cols]\n",
    "\n",
    "# Preview X_test\n",
    "print(\"X_test - Overview:\")\n",
    "print(X_test.head())\n"
   ]
  },
  {
   "cell_type": "code",
   "execution_count": 3,
   "metadata": {},
   "outputs": [],
   "source": [
    "# Import necessary libraries\n",
    "import pandas as pd\n",
    "import numpy as np\n",
    "from sklearn.ensemble import RandomForestRegressor\n",
    "from sklearn.metrics import mean_absolute_error, mean_squared_error, r2_score\n"
   ]
  },
  {
   "cell_type": "code",
   "execution_count": 4,
   "metadata": {},
   "outputs": [
    {
     "name": "stdout",
     "output_type": "stream",
     "text": [
      "X_train shape: (365238, 10), y_train shape: (365238,)\n",
      "X_val shape: (91310, 10), y_val shape: (91310,)\n"
     ]
    }
   ],
   "source": [
    "# Load preprocessed datasets\n",
    "X_train = pd.read_csv(\"../data/X_train.csv\")\n",
    "X_val = pd.read_csv(\"../data/X_val.csv\")\n",
    "y_train = pd.read_csv(\"../data/y_train.csv\").squeeze()  # Convert to Series\n",
    "y_val = pd.read_csv(\"../data/y_val.csv\").squeeze()  # Convert to Series\n",
    "\n",
    "# Verify shapes\n",
    "print(f\"X_train shape: {X_train.shape}, y_train shape: {y_train.shape}\")\n",
    "print(f\"X_val shape: {X_val.shape}, y_val shape: {y_val.shape}\")\n"
   ]
  },
  {
   "cell_type": "code",
   "execution_count": 6,
   "metadata": {},
   "outputs": [
    {
     "name": "stdout",
     "output_type": "stream",
     "text": [
      "X_test - Overview:\n",
      "   checkout_price  base_price  price_diff  promotion  category  cuisine  \\\n",
      "0          158.11      159.11         1.0          0         0        3   \n",
      "1          160.11      159.11        -1.0          0         0        3   \n",
      "2          157.14      159.14         2.0          0         0        3   \n",
      "3          162.02      162.02         0.0          0         0        1   \n",
      "4          163.93      163.93         0.0          0         0        1   \n",
      "\n",
      "   city_code  region_code  center_type  op_area  \n",
      "0        647           56            2      2.0  \n",
      "1        647           56            2      2.0  \n",
      "2        647           56            2      2.0  \n",
      "3        647           56            2      2.0  \n",
      "4        647           56            2      2.0  \n"
     ]
    }
   ],
   "source": [
    "# Load or prepare test_merged\n",
    "test_merged = pd.read_csv(\"../data/test_merged.csv\")\n",
    "\n",
    "# Define feature columns for test data\n",
    "feature_cols = [\n",
    "    \"checkout_price\", \"base_price\", \"price_diff\", \"promotion\", \n",
    "    \"category\", \"cuisine\", \"city_code\", \"region_code\", \"center_type\", \"op_area\"\n",
    "]\n",
    "\n",
    "# Prepare X_test\n",
    "X_test = test_merged[feature_cols]\n",
    "\n",
    "# Preview X_test\n",
    "print(\"X_test - Overview:\")\n",
    "print(X_test.head())\n"
   ]
  },
  {
   "cell_type": "code",
   "execution_count": 7,
   "metadata": {},
   "outputs": [
    {
     "name": "stdout",
     "output_type": "stream",
     "text": [
      "\n",
      "Random Forest Model Evaluation on Validation Set:\n",
      "Mean Absolute Error (MAE): 107.10574685330496\n",
      "Root Mean Squared Error (RMSE): 210.81287030422902\n",
      "R-squared (R2): 0.7086405655821549\n",
      "\n",
      "Random Forest test predictions saved to ../results/test_predictions_rf.csv\n"
     ]
    }
   ],
   "source": [
    "# Import necessary libraries\n",
    "import pandas as pd\n",
    "import numpy as np\n",
    "from sklearn.ensemble import RandomForestRegressor\n",
    "from sklearn.metrics import mean_absolute_error, mean_squared_error, r2_score\n",
    "\n",
    "# Load preprocessed training and validation datasets\n",
    "data_path = \"../data/\"\n",
    "X_train = pd.read_csv(data_path + \"X_train.csv\")\n",
    "X_val = pd.read_csv(data_path + \"X_val.csv\")\n",
    "y_train = pd.read_csv(data_path + \"y_train.csv\").squeeze()  # Convert to Series\n",
    "y_val = pd.read_csv(data_path + \"y_val.csv\").squeeze()  # Convert to Series\n",
    "\n",
    "# Load and prepare test data\n",
    "test_merged = pd.read_csv(data_path + \"test_merged.csv\")\n",
    "feature_cols = [\n",
    "    \"checkout_price\", \"base_price\", \"price_diff\", \"promotion\", \n",
    "    \"category\", \"cuisine\", \"city_code\", \"region_code\", \"center_type\", \"op_area\"\n",
    "]\n",
    "X_test = test_merged[feature_cols]\n",
    "\n",
    "# Initialize and train Random Forest Regressor\n",
    "rf_model = RandomForestRegressor(n_estimators=100, random_state=42, max_depth=10)\n",
    "rf_model.fit(X_train, y_train)\n",
    "\n",
    "# Predict on validation set\n",
    "y_val_rf_pred = rf_model.predict(X_val)\n",
    "\n",
    "# Evaluate the model on validation set\n",
    "mae_rf = mean_absolute_error(y_val, y_val_rf_pred)\n",
    "rmse_rf = np.sqrt(mean_squared_error(y_val, y_val_rf_pred))\n",
    "r2_rf = r2_score(y_val, y_val_rf_pred)\n",
    "\n",
    "print(\"\\nRandom Forest Model Evaluation on Validation Set:\")\n",
    "print(f\"Mean Absolute Error (MAE): {mae_rf}\")\n",
    "print(f\"Root Mean Squared Error (RMSE): {rmse_rf}\")\n",
    "print(f\"R-squared (R2): {r2_rf}\")\n",
    "\n",
    "# Predict on test set\n",
    "y_test_rf_pred = rf_model.predict(X_test)\n",
    "\n",
    "# Save test predictions\n",
    "test_predictions = test_merged[[\"id\"]].copy()\n",
    "test_predictions[\"num_orders\"] = y_test_rf_pred\n",
    "test_predictions.to_csv(\"../results/test_predictions_rf.csv\", index=False)\n",
    "\n",
    "print(\"\\nRandom Forest test predictions saved to ../results/test_predictions_rf.csv\")\n"
   ]
  }
 ],
 "metadata": {
  "kernelspec": {
   "display_name": "Python 3",
   "language": "python",
   "name": "python3"
  },
  "language_info": {
   "codemirror_mode": {
    "name": "ipython",
    "version": 3
   },
   "file_extension": ".py",
   "mimetype": "text/x-python",
   "name": "python",
   "nbconvert_exporter": "python",
   "pygments_lexer": "ipython3",
   "version": "3.13.0"
  }
 },
 "nbformat": 4,
 "nbformat_minor": 2
}
