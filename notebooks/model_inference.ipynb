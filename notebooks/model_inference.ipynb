{
 "cells": [
  {
   "cell_type": "code",
   "execution_count": 3,
   "metadata": {},
   "outputs": [
    {
     "name": "stdout",
     "output_type": "stream",
     "text": [
      "\n",
      "Test predictions saved to ../results/final_test_predictions.csv\n"
     ]
    }
   ],
   "source": [
    "import joblib\n",
    "import pandas as pd\n",
    "\n",
    "# Load the saved XGBoost model\n",
    "model_path = \"../models/final_xgb_model.pkl\"\n",
    "loaded_model = joblib.load(model_path)\n",
    "\n",
    "# Load test data\n",
    "test_merged = pd.read_csv(\"../data/test_merged.csv\")\n",
    "\n",
    "# Define feature columns\n",
    "feature_cols = [\n",
    "    \"checkout_price\", \"base_price\", \"price_diff\", \"promotion\", \n",
    "    \"category\", \"cuisine\", \"city_code\", \"region_code\", \"center_type\", \"op_area\"\n",
    "]\n",
    "X_test = test_merged[feature_cols]\n",
    "\n",
    "# Predict on test set using the loaded model\n",
    "y_test_pred = loaded_model.predict(X_test)\n",
    "\n",
    "# Save predictions\n",
    "test_predictions = test_merged[[\"id\"]].copy()\n",
    "test_predictions[\"num_orders\"] = y_test_pred\n",
    "test_predictions.to_csv(\"../results/final_test_predictions.csv\", index=False)\n",
    "\n",
    "print(\"\\nTest predictions saved to ../results/final_test_predictions.csv\")"
   ]
  },
  {
   "cell_type": "code",
   "execution_count": 4,
   "metadata": {},
   "outputs": [
    {
     "name": "stdout",
     "output_type": "stream",
     "text": [
      "Test Predictions Overview:\n",
      "        id  num_orders\n",
      "0  1028232  175.962770\n",
      "1  1127204  185.019210\n",
      "2  1212707  175.987300\n",
      "3  1082698   49.999634\n",
      "4  1400926   48.969376\n",
      "\n",
      "Prediction Statistics:\n",
      "count    32573.000000\n",
      "mean       254.666544\n",
      "std        358.125108\n",
      "min        -42.383087\n",
      "25%         64.297670\n",
      "50%        150.549500\n",
      "75%        306.465060\n",
      "max       6151.734400\n",
      "Name: num_orders, dtype: float64\n"
     ]
    }
   ],
   "source": [
    "import pandas as pd\n",
    "\n",
    "# Load the saved predictions\n",
    "test_predictions = pd.read_csv(\"../results/final_test_predictions.csv\")\n",
    "\n",
    "# Display an overview of predictions\n",
    "print(\"Test Predictions Overview:\")\n",
    "print(test_predictions.head())\n",
    "\n",
    "# Check statistics of predicted values\n",
    "print(\"\\nPrediction Statistics:\")\n",
    "print(test_predictions[\"num_orders\"].describe())"
   ]
  },
  {
   "cell_type": "code",
   "execution_count": 5,
   "metadata": {},
   "outputs": [
    {
     "name": "stdout",
     "output_type": "stream",
     "text": [
      "Negative predictions clipped and saved.\n"
     ]
    }
   ],
   "source": [
    "# Replace negative predictions with 0\n",
    "test_predictions[\"num_orders\"] = test_predictions[\"num_orders\"].clip(lower=0)\n",
    "\n",
    "# Save the updated predictions\n",
    "test_predictions.to_csv(\"../results/final_test_predictions.csv\", index=False)\n",
    "print(\"Negative predictions clipped and saved.\")"
   ]
  },
  {
   "cell_type": "code",
   "execution_count": 6,
   "metadata": {},
   "outputs": [
    {
     "name": "stdout",
     "output_type": "stream",
     "text": [
      "Minimum Predicted Orders: 0.0\n",
      "Maximum Predicted Orders: 6151.7344\n",
      "Mean Predicted Orders: 254.69094103602066\n"
     ]
    }
   ],
   "source": [
    "# Compute key statistics\n",
    "test_predictions = pd.read_csv(\"../results/final_test_predictions.csv\")  # Ensure predictions are loaded\n",
    "min_pred = test_predictions[\"num_orders\"].min()\n",
    "max_pred = test_predictions[\"num_orders\"].max()\n",
    "mean_pred = test_predictions[\"num_orders\"].mean()\n",
    "\n",
    "print(f\"Minimum Predicted Orders: {min_pred}\")\n",
    "print(f\"Maximum Predicted Orders: {max_pred}\")\n",
    "print(f\"Mean Predicted Orders: {mean_pred}\")"
   ]
  },
  {
   "cell_type": "code",
   "execution_count": 7,
   "metadata": {},
   "outputs": [
    {
     "name": "stdout",
     "output_type": "stream",
     "text": [
      "Custom Input:\n",
      "   checkout_price  base_price  price_diff  promotion  category  cuisine  \\\n",
      "0           150.5       160.0        -9.5          1         3        2   \n",
      "\n",
      "   city_code  region_code  center_type  op_area  \n",
      "0        647           56            1      2.0  \n"
     ]
    }
   ],
   "source": [
    "import pandas as pd\n",
    "\n",
    "# Define the columns and a custom input (replace values with your own)\n",
    "custom_input = pd.DataFrame({\n",
    "    \"checkout_price\": [150.5],\n",
    "    \"base_price\": [160.0],\n",
    "    \"price_diff\": [150.5 - 160.0],\n",
    "    \"promotion\": [1],\n",
    "    \"category\": [3],  # Example encoded category (e.g., 'Extras')\n",
    "    \"cuisine\": [2],   # Example encoded cuisine (e.g., 'Italian')\n",
    "    \"city_code\": [647],\n",
    "    \"region_code\": [56],\n",
    "    \"center_type\": [1],  # Example encoded center type (e.g., 'TYPE_B')\n",
    "    \"op_area\": [2.0]\n",
    "})\n",
    "\n",
    "# Preview custom input\n",
    "print(\"Custom Input:\")\n",
    "print(custom_input)"
   ]
  },
  {
   "cell_type": "code",
   "execution_count": 8,
   "metadata": {},
   "outputs": [
    {
     "name": "stdout",
     "output_type": "stream",
     "text": [
      "Predicted Number of Orders: 224.65176391601562\n"
     ]
    }
   ],
   "source": [
    "# Predict for the custom input\n",
    "custom_prediction = loaded_model.predict(custom_input)\n",
    "\n",
    "print(f\"Predicted Number of Orders: {custom_prediction[0]}\")"
   ]
  }
 ],
 "metadata": {
  "kernelspec": {
   "display_name": "Python 3",
   "language": "python",
   "name": "python3"
  },
  "language_info": {
   "codemirror_mode": {
    "name": "ipython",
    "version": 3
   },
   "file_extension": ".py",
   "mimetype": "text/x-python",
   "name": "python",
   "nbconvert_exporter": "python",
   "pygments_lexer": "ipython3",
   "version": "3.12.2"
  }
 },
 "nbformat": 4,
 "nbformat_minor": 2
}
