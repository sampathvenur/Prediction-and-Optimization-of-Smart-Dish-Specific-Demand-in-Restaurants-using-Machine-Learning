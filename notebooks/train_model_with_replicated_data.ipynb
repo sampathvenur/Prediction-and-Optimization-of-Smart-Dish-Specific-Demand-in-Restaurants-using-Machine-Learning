{
 "cells": [
  {
   "cell_type": "code",
   "execution_count": 1,
   "metadata": {},
   "outputs": [],
   "source": [
    "import pandas as pd\n",
    "from sklearn.model_selection import train_test_split\n",
    "from sklearn.ensemble import RandomForestRegressor\n",
    "from sklearn.metrics import mean_absolute_error, mean_squared_error, r2_score"
   ]
  },
  {
   "cell_type": "code",
   "execution_count": 6,
   "metadata": {},
   "outputs": [
    {
     "name": "stdout",
     "output_type": "stream",
     "text": [
      "Data loaded with 2000000 rows.\n",
      "Train and validation sets saved. Train: 1600000, Validation: 400000.\n"
     ]
    }
   ],
   "source": [
    "# Path to the replicated train data\n",
    "data_path = r\"D:\\mini project\\Prediction-and-Optimization-of-Smart-Dish-Specific-Demand-in-Restaurants-using-Machine-Learning\\data\\train_replicated_with_dates.csv\"\n",
    "\n",
    "\n",
    "# Load the data\n",
    "train_data = pd.read_csv(data_path)\n",
    "print(f\"Data loaded with {len(train_data)} rows.\")\n",
    "\n",
    "# Split into features (X) and target (y)\n",
    "X = train_data.drop(columns=[\"id\", \"num_orders\", \"date\"])  # Exclude ID, date, and target\n",
    "y = train_data[\"num_orders\"]  # Target variable\n",
    "\n",
    "# Split into train and validation sets\n",
    "X_train, X_val, y_train, y_val = train_test_split(X, y, test_size=0.2, random_state=42)\n",
    "\n",
    "# Save the train-test split for later use\n",
    "X_train.to_csv(r\"D:\\mini project\\Prediction-and-Optimization-of-Smart-Dish-Specific-Demand-in-Restaurants-using-Machine-Learning\\data\\X_train.csv\", index=False)\n",
    "X_val.to_csv(r\"D:\\mini project\\Prediction-and-Optimization-of-Smart-Dish-Specific-Demand-in-Restaurants-using-Machine-Learning\\data\\X_val.csv\", index=False)\n",
    "y_train.to_csv(r\"D:\\mini project\\Prediction-and-Optimization-of-Smart-Dish-Specific-Demand-in-Restaurants-using-Machine-Learning/data/y_train.csv\", index=False)\n",
    "y_val.to_csv(r\"D:\\mini project\\Prediction-and-Optimization-of-Smart-Dish-Specific-Demand-in-Restaurants-using-Machine-Learning\\data\\y_val.csv\", index=False)\n",
    "\n",
    "print(f\"Train and validation sets saved. Train: {len(X_train)}, Validation: {len(X_val)}.\")\n"
   ]
  },
  {
   "cell_type": "code",
   "execution_count": 11,
   "metadata": {},
   "outputs": [
    {
     "name": "stdout",
     "output_type": "stream",
     "text": [
      "Training the model on GPU...\n"
     ]
    },
    {
     "name": "stderr",
     "output_type": "stream",
     "text": [
      "c:\\Users\\theja\\AppData\\Local\\Programs\\Python\\Python312\\Lib\\site-packages\\xgboost\\core.py:158: UserWarning: [19:20:48] WARNING: C:\\buildkite-agent\\builds\\buildkite-windows-cpu-autoscaling-group-i-0c55ff5f71b100e98-1\\xgboost\\xgboost-ci-windows\\src\\common\\error_msg.cc:27: The tree method `gpu_hist` is deprecated since 2.0.0. To use GPU training, set the `device` parameter to CUDA instead.\n",
      "\n",
      "    E.g. tree_method = \"hist\", device = \"cuda\"\n",
      "\n",
      "  warnings.warn(smsg, UserWarning)\n"
     ]
    },
    {
     "name": "stdout",
     "output_type": "stream",
     "text": [
      "Model training completed using GPU.\n",
      "Evaluating the model...\n",
      "Validation Predictions: [168.61284  116.47397   76.462875 104.39024  388.24426 ]\n"
     ]
    },
    {
     "name": "stderr",
     "output_type": "stream",
     "text": [
      "c:\\Users\\theja\\AppData\\Local\\Programs\\Python\\Python312\\Lib\\site-packages\\xgboost\\core.py:158: UserWarning: [19:20:51] WARNING: C:\\buildkite-agent\\builds\\buildkite-windows-cpu-autoscaling-group-i-0c55ff5f71b100e98-1\\xgboost\\xgboost-ci-windows\\src\\common\\error_msg.cc:27: The tree method `gpu_hist` is deprecated since 2.0.0. To use GPU training, set the `device` parameter to CUDA instead.\n",
      "\n",
      "    E.g. tree_method = \"hist\", device = \"cuda\"\n",
      "\n",
      "  warnings.warn(smsg, UserWarning)\n",
      "c:\\Users\\theja\\AppData\\Local\\Programs\\Python\\Python312\\Lib\\site-packages\\xgboost\\core.py:158: UserWarning: [19:20:51] WARNING: C:\\buildkite-agent\\builds\\buildkite-windows-cpu-autoscaling-group-i-0c55ff5f71b100e98-1\\xgboost\\xgboost-ci-windows\\src\\common\\error_msg.cc:58: Falling back to prediction using DMatrix due to mismatched devices. This might lead to higher memory usage and slower performance. XGBoost is running on: cuda:0, while the input data is on: cpu.\n",
      "Potential solutions:\n",
      "- Use a data structure that matches the device ordinal in the booster.\n",
      "- Set the device for booster before call to inplace_predict.\n",
      "\n",
      "This warning will only be shown once.\n",
      "\n",
      "  warnings.warn(smsg, UserWarning)\n"
     ]
    }
   ],
   "source": [
    "import pandas as pd\n",
    "from xgboost import XGBRegressor\n",
    "import os\n",
    "\n",
    "# Set the base directory where the files are located\n",
    "base_dir = r\"D:/mini project/Prediction-and-Optimization-of-Smart-Dish-Specific-Demand-in-Restaurants-using-Machine-Learning/data\"\n",
    "\n",
    "# Verify if files exist and load them\n",
    "try:\n",
    "    # Construct file paths\n",
    "    X_train_path = os.path.join(base_dir, \"X_train.csv\")\n",
    "    y_train_path = os.path.join(base_dir, \"y_train.csv\")\n",
    "    X_val_path = os.path.join(base_dir, \"X_val.csv\")\n",
    "    y_val_path = os.path.join(base_dir, \"y_val.csv\")\n",
    "    \n",
    "    # Ensure files exist\n",
    "    for file_path in [X_train_path, y_train_path, X_val_path, y_val_path]:\n",
    "        if not os.path.exists(file_path):\n",
    "            raise FileNotFoundError(f\"File not found: {file_path}\")\n",
    "    \n",
    "    # Load datasets\n",
    "    X_train = pd.read_csv(X_train_path)\n",
    "    y_train = pd.read_csv(y_train_path).squeeze()  # Convert to Series\n",
    "    X_val = pd.read_csv(X_val_path)\n",
    "    y_val = pd.read_csv(y_val_path).squeeze()      # Convert to Series\n",
    "\n",
    "except FileNotFoundError as e:\n",
    "    print(e)\n",
    "    raise\n",
    "\n",
    "# Initialize the model with GPU support\n",
    "model = XGBRegressor(\n",
    "    n_estimators=100,          # Number of trees\n",
    "    max_depth=10,              # Maximum depth of trees\n",
    "    learning_rate=0.1,         # Learning rate\n",
    "    subsample=0.8,             # Subsample ratio\n",
    "    colsample_bytree=0.8,      # Feature sampling ratio\n",
    "    tree_method=\"gpu_hist\",    # Use GPU acceleration\n",
    "    random_state=42            # Reproducibility\n",
    ")\n",
    "\n",
    "# Train the model\n",
    "print(\"Training the model on GPU...\")\n",
    "model.fit(X_train, y_train)\n",
    "print(\"Model training completed using GPU.\")\n",
    "\n",
    "# Optionally, evaluate the model\n",
    "print(\"Evaluating the model...\")\n",
    "val_predictions = model.predict(X_val)\n",
    "print(f\"Validation Predictions: {val_predictions[:5]}\")\n"
   ]
  },
  {
   "cell_type": "code",
   "execution_count": 12,
   "metadata": {},
   "outputs": [
    {
     "name": "stdout",
     "output_type": "stream",
     "text": [
      "Model Evaluation on Validation Set:\n",
      "Mean Absolute Error (MAE): 82.79\n",
      "Root Mean Squared Error (RMSE): 153.34\n",
      "R-squared (R2): 0.86\n"
     ]
    },
    {
     "name": "stderr",
     "output_type": "stream",
     "text": [
      "c:\\Users\\theja\\AppData\\Local\\Programs\\Python\\Python312\\Lib\\site-packages\\sklearn\\metrics\\_regression.py:492: FutureWarning: 'squared' is deprecated in version 1.4 and will be removed in 1.6. To calculate the root mean squared error, use the function'root_mean_squared_error'.\n",
      "  warnings.warn(\n"
     ]
    }
   ],
   "source": [
    "# Predict on validation set\n",
    "y_val_pred = model.predict(X_val)\n",
    "\n",
    "# Evaluate the model\n",
    "mae = mean_absolute_error(y_val, y_val_pred)\n",
    "rmse = mean_squared_error(y_val, y_val_pred, squared=False)\n",
    "r2 = r2_score(y_val, y_val_pred)\n",
    "\n",
    "print(f\"Model Evaluation on Validation Set:\")\n",
    "print(f\"Mean Absolute Error (MAE): {mae:.2f}\")\n",
    "print(f\"Root Mean Squared Error (RMSE): {rmse:.2f}\")\n",
    "print(f\"R-squared (R2): {r2:.2f}\")\n"
   ]
  },
  {
   "cell_type": "code",
   "execution_count": 17,
   "metadata": {},
   "outputs": [
    {
     "name": "stdout",
     "output_type": "stream",
     "text": [
      "Model saved to D:/mini project/Prediction-and-Optimization-of-Smart-Dish-Specific-Demand-in-Restaurants-using-Machine-Learning/models\\random_forest_model.pkl\n"
     ]
    }
   ],
   "source": [
    "import os\n",
    "import joblib\n",
    "\n",
    "# Path to save the model\n",
    "model_dir = \"D:/mini project/Prediction-and-Optimization-of-Smart-Dish-Specific-Demand-in-Restaurants-using-Machine-Learning/models\"\n",
    "model_path = os.path.join(model_dir, \"random_forest_model.pkl\")\n",
    "\n",
    "# Create the directory if it doesn't exist\n",
    "os.makedirs(model_dir, exist_ok=True)\n",
    "\n",
    "# Save the trained model\n",
    "joblib.dump(model, model_path)\n",
    "print(f\"Model saved to {model_path}\")"
   ]
  }
 ],
 "metadata": {
  "kernelspec": {
   "display_name": "Python 3",
   "language": "python",
   "name": "python3"
  },
  "language_info": {
   "codemirror_mode": {
    "name": "ipython",
    "version": 3
   },
   "file_extension": ".py",
   "mimetype": "text/x-python",
   "name": "python",
   "nbconvert_exporter": "python",
   "pygments_lexer": "ipython3",
   "version": "3.12.2"
  }
 },
 "nbformat": 4,
 "nbformat_minor": 2
}
